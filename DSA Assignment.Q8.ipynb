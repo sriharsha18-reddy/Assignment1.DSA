{
 "cells": [
  {
   "cell_type": "code",
   "execution_count": 2,
   "metadata": {},
   "outputs": [
    {
     "name": "stdout",
     "output_type": "stream",
     "text": [
      "Balanced\n"
     ]
    }
   ],
   "source": [
    "#8.Write a program to check if all the brackets are closed in a given code snippet.\n",
    "def areBracketsBalanced(expr):\n",
    "\tstack = []\n",
    "\tfor char in expr:\n",
    "\t\tif char in [\"(\", \"{\", \"[\"]:\n",
    "\t\t\tstack.append(char)\n",
    "\t\telse:\n",
    "\t\t\tif not stack:\n",
    "\t\t\t\treturn False\n",
    "\t\t\tcurrent_char = stack.pop()\n",
    "\t\t\tif current_char == '(':\n",
    "\t\t\t\tif char != \")\":\n",
    "\t\t\t\t\treturn False\n",
    "\t\t\tif current_char == '{':\n",
    "\t\t\t\tif char != \"}\":\n",
    "\t\t\t\t\treturn False\n",
    "\t\t\tif current_char == '[':\n",
    "\t\t\t\tif char != \"]\":\n",
    "\t\t\t\t\treturn False\n",
    "\n",
    "\tif stack:\n",
    "\t\treturn False\n",
    "\treturn True\n",
    "\n",
    "if __name__ == \"__main__\":\n",
    "\texpr = \"{()}[]\"\n",
    "\n",
    "\tif areBracketsBalanced(expr):\n",
    "\t\tprint(\"Balanced\")\n",
    "\telse:\n",
    "\t\tprint(\"Not Balanced\")\n"
   ]
  }
 ],
 "metadata": {
  "kernelspec": {
   "display_name": "Python 3",
   "language": "python",
   "name": "python3"
  },
  "language_info": {
   "codemirror_mode": {
    "name": "ipython",
    "version": 3
   },
   "file_extension": ".py",
   "mimetype": "text/x-python",
   "name": "python",
   "nbconvert_exporter": "python",
   "pygments_lexer": "ipython3",
   "version": "3.11.2"
  },
  "orig_nbformat": 4,
  "vscode": {
   "interpreter": {
    "hash": "cfd6bd4f4113fdcafaf611b0ceaf74a3b5f8378550a60e11b112517102badd1d"
   }
  }
 },
 "nbformat": 4,
 "nbformat_minor": 2
}
