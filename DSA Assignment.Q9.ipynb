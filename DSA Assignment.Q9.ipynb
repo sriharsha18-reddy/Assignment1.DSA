{
 "cells": [
  {
   "cell_type": "code",
   "execution_count": 1,
   "metadata": {},
   "outputs": [
    {
     "name": "stdout",
     "output_type": "stream",
     "text": [
      "uddal\n"
     ]
    }
   ],
   "source": [
    "#9.Write a program to reverse a stack.\n",
    "class Stack: \n",
    "    def __init__(self): \n",
    "        self.items = [] \n",
    "    def isEmpty(self): \n",
    "        return self.items == [] \n",
    "    def push(self,item): \n",
    "        self.items.append(item) \n",
    "        return self.items \n",
    "    def pop(self): \n",
    "        if self.items == []: \n",
    "            return 0 \n",
    "        self.items.pop() \n",
    "    def peek(self): \n",
    "        if self.items == []: \n",
    "            return 0 \n",
    "        return self.items[len(self.items) - 1] \n",
    "    def size(self): \n",
    "        return len(self.items) \n",
    " \n",
    "    def getStackItems(self): \n",
    "        return self.items \n",
    " \n",
    "def reverse(string): \n",
    "    stack = Stack() \n",
    "    ls = [] \n",
    "    newstr = \"\" \n",
    "    for i in string: \n",
    "        stack.push(i) \n",
    "    ls = stack.getStackItems() \n",
    "    for j in range(len(ls)): \n",
    "        newstr += ls.pop() \n",
    "    print(newstr) \n",
    " \n",
    "reverse(\"laddu\") "
   ]
  }
 ],
 "metadata": {
  "kernelspec": {
   "display_name": "Python 3",
   "language": "python",
   "name": "python3"
  },
  "language_info": {
   "codemirror_mode": {
    "name": "ipython",
    "version": 3
   },
   "file_extension": ".py",
   "mimetype": "text/x-python",
   "name": "python",
   "nbconvert_exporter": "python",
   "pygments_lexer": "ipython3",
   "version": "3.11.2"
  },
  "orig_nbformat": 4,
  "vscode": {
   "interpreter": {
    "hash": "cfd6bd4f4113fdcafaf611b0ceaf74a3b5f8378550a60e11b112517102badd1d"
   }
  }
 },
 "nbformat": 4,
 "nbformat_minor": 2
}
