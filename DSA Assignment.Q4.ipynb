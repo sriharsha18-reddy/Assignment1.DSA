{
 "cells": [
  {
   "cell_type": "code",
   "execution_count": 1,
   "metadata": {},
   "outputs": [
    {
     "name": "stdout",
     "output_type": "stream",
     "text": [
      "i e y "
     ]
    }
   ],
   "source": [
    "#4.Write a program to print the first non-repeated character from a string?\n",
    "String = \"sriharshareddy\"\n",
    "for i in String:\n",
    "    count = 0\n",
    "    for j in String:\n",
    "        if i == j:\n",
    "            count+=1\n",
    "        if count > 1:\n",
    "            break\n",
    "    if count == 1:\n",
    "        print(i,end = \" \")"
   ]
  }
 ],
 "metadata": {
  "kernelspec": {
   "display_name": "Python 3",
   "language": "python",
   "name": "python3"
  },
  "language_info": {
   "codemirror_mode": {
    "name": "ipython",
    "version": 3
   },
   "file_extension": ".py",
   "mimetype": "text/x-python",
   "name": "python",
   "nbconvert_exporter": "python",
   "pygments_lexer": "ipython3",
   "version": "3.11.2"
  },
  "orig_nbformat": 4,
  "vscode": {
   "interpreter": {
    "hash": "cfd6bd4f4113fdcafaf611b0ceaf74a3b5f8378550a60e11b112517102badd1d"
   }
  }
 },
 "nbformat": 4,
 "nbformat_minor": 2
}
