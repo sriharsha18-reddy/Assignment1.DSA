{
 "cells": [
  {
   "cell_type": "code",
   "execution_count": 1,
   "metadata": {},
   "outputs": [
    {
     "name": "stdout",
     "output_type": "stream",
     "text": [
      "Given Strings are rotations of each other\n"
     ]
    }
   ],
   "source": [
    "#3.Write a program to check if two strings are a rotation of each other?\n",
    "def checkRotation(s1, s2): \n",
    "    temp = '' \n",
    "  \n",
    "    if len(s1) != len(s2): \n",
    "        return False\n",
    "  \n",
    "    temp = s1 + s1 \n",
    "  \n",
    "    if s2 in temp: \n",
    "        return True \n",
    "    else: \n",
    "        return False\n",
    "  \n",
    "string1 = \"HELLO\"\n",
    "string2 = \"LOHEL\"\n",
    "  \n",
    "if checkRotation(string1, string2): \n",
    "    print(\"Given Strings are rotations of each other\")\n",
    "else: \n",
    "    print(\"Given Strings are not rotations of each other\")"
   ]
  }
 ],
 "metadata": {
  "kernelspec": {
   "display_name": "Python 3",
   "language": "python",
   "name": "python3"
  },
  "language_info": {
   "codemirror_mode": {
    "name": "ipython",
    "version": 3
   },
   "file_extension": ".py",
   "mimetype": "text/x-python",
   "name": "python",
   "nbconvert_exporter": "python",
   "pygments_lexer": "ipython3",
   "version": "3.11.2"
  },
  "orig_nbformat": 4,
  "vscode": {
   "interpreter": {
    "hash": "cfd6bd4f4113fdcafaf611b0ceaf74a3b5f8378550a60e11b112517102badd1d"
   }
  }
 },
 "nbformat": 4,
 "nbformat_minor": 2
}
