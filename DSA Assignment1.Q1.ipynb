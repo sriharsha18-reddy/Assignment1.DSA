{
 "cells": [
  {
   "cell_type": "code",
   "execution_count": 77,
   "metadata": {},
   "outputs": [
    {
     "name": "stdout",
     "output_type": "stream",
     "text": [
      "Array =  [5, 2, 3, 4, 1, 6, 7]\n",
      "Pairs whose sum is :  7\n",
      "5 2\n",
      "3 4\n",
      "1 6\n"
     ]
    }
   ],
   "source": [
    "#1.Write a program to find all pairs of an integer array whose sum is equal to a given number?\n",
    "def find(array, len, sum):\n",
    "    print(\"Pairs whose sum is : \", sum)\n",
    "    for i in range(len):\n",
    "        for j in range(i, len):\n",
    "            if (array[i] + array[j]) == sum:\n",
    "                print(array[i], array[j])\n",
    "\n",
    "\n",
    "array = [5, 2, 3, 4, 1, 6, 7]\n",
    "\n",
    "sum = 7\n",
    "\n",
    "print(\"Array = \", array)\n",
    "\n",
    "find(array, len(array), sum)"
   ]
  },
  {
   "cell_type": "code",
   "execution_count": 78,
   "metadata": {},
   "outputs": [
    {
     "name": "stdout",
     "output_type": "stream",
     "text": [
      "[1, 2, 3, 4, 5]\n",
      "Reversed list is:\n",
      "[5, 4, 3, 2, 1]\n"
     ]
    }
   ],
   "source": [
    "#2.Write a program to reverse an array in place? In place means you cannot create a new array. You have to update the original array.\n",
    "def reverseList(A, start, end):\n",
    "    while start < end:\n",
    "        A[start], A[end] = A[end], A[start]\n",
    "        start += 1\n",
    "        end -= 1\n",
    " \n",
    "A = [1, 2, 3, 4, 5]\n",
    "print(A)\n",
    "reverseList(A, 0, 4)\n",
    "print(\"Reversed list is:\")\n",
    "print(A)"
   ]
  },
  {
   "cell_type": "code",
   "execution_count": 79,
   "metadata": {},
   "outputs": [
    {
     "name": "stdout",
     "output_type": "stream",
     "text": [
      "Given Strings are rotations of each other\n"
     ]
    }
   ],
   "source": [
    "#3.Write a program to check if two strings are a rotation of each other?\n",
    "def checkRotation(s1, s2): \n",
    "    temp = '' \n",
    "  \n",
    "    if len(s1) != len(s2): \n",
    "        return False\n",
    "  \n",
    "    temp = s1 + s1 \n",
    "  \n",
    "    if s2 in temp: \n",
    "        return True \n",
    "    else: \n",
    "        return False\n",
    "  \n",
    "string1 = \"HELLO\"\n",
    "string2 = \"LOHEL\"\n",
    "  \n",
    "if checkRotation(string1, string2): \n",
    "    print(\"Given Strings are rotations of each other\")\n",
    "else: \n",
    "    print(\"Given Strings are not rotations of each other\")"
   ]
  },
  {
   "cell_type": "code",
   "execution_count": 80,
   "metadata": {},
   "outputs": [
    {
     "name": "stdout",
     "output_type": "stream",
     "text": [
      "i e y "
     ]
    }
   ],
   "source": [
    "#4.Write a program to print the first non-repeated character from a string?\n",
    "String = \"sriharshareddy\"\n",
    "for i in String:\n",
    "    count = 0\n",
    "    for j in String:\n",
    "        if i == j:\n",
    "            count+=1\n",
    "        if count > 1:\n",
    "            break\n",
    "    if count == 1:\n",
    "        print(i,end = \" \")"
   ]
  },
  {
   "cell_type": "code",
   "execution_count": 81,
   "metadata": {},
   "outputs": [
    {
     "name": "stdout",
     "output_type": "stream",
     "text": [
      "Move disk 1 from rod A to rod C\n",
      "Move disk 2 from rod A to rod B\n",
      "Move disk 1 from rod C to rod B\n",
      "Move disk 3 from rod A to rod C\n",
      "Move disk 1 from rod B to rod A\n",
      "Move disk 2 from rod B to rod C\n",
      "Move disk 1 from rod A to rod C\n"
     ]
    }
   ],
   "source": [
    "#5.Read about the Tower of Hanoi algorithm. Write a program to implement it.\n",
    "def TowerOfHanoi(n, from_rod, to_rod, aux_rod):\n",
    "    if n == 0:\n",
    "        return\n",
    "    TowerOfHanoi(n-1, from_rod, aux_rod, to_rod)\n",
    "    print(\"Move disk\", n, \"from rod\", from_rod, \"to rod\", to_rod)\n",
    "    TowerOfHanoi(n-1, aux_rod, to_rod, from_rod)\n",
    " \n",
    "N = 3\n",
    "\n",
    "TowerOfHanoi(N, 'A', 'C', 'B')"
   ]
  },
  {
   "cell_type": "code",
   "execution_count": 82,
   "metadata": {},
   "outputs": [
    {
     "name": "stdout",
     "output_type": "stream",
     "text": [
      "Prefix :  +AB-CD\n"
     ]
    }
   ],
   "source": [
    "#6.Read about infix, prefix, and postfix expressions. Write a program to convert postfix to prefix expression.\n",
    "def isOperator(x):\n",
    "\n",
    "\tif x == \"+\":\n",
    "\t\treturn True\n",
    "\n",
    "\tif x == \"-\":\n",
    "\t\treturn True\n",
    "\n",
    "\tif x == \"/\":\n",
    "\t\treturn True\n",
    "\n",
    "\tif x == \"*\":\n",
    "\t\treturn True\n",
    "\n",
    "\treturn False\n",
    "\n",
    "# Convert postfix to Prefix expression\n",
    "def postToPre(post_exp):\n",
    "\n",
    "\ts = []\n",
    "\n",
    "\tlength = len(post_exp)\n",
    "\n",
    "\tfor i in range(length):\n",
    "\n",
    "\t\tif (isOperator(post_exp[i])):\n",
    "\n",
    "\t\t\top1 = s[-1]\n",
    "\t\t\ts.pop()\n",
    "\t\t\top2 = s[-1]\n",
    "\t\t\ts.pop()\n",
    "\n",
    "\t\t\ttemp = post_exp[i] + op2 + op1\n",
    "\n",
    "\t\t\ts.append(temp)\n",
    "\n",
    "\t\telse:\n",
    "\n",
    "\t\t\ts.append(post_exp[i])\n",
    "\n",
    "\tans = \"\"\n",
    "\tfor i in s:\n",
    "\t\tans += i\n",
    "\treturn ans\n",
    "\n",
    "if __name__ == \"__main__\":\n",
    "\n",
    "\tpost_exp = \"AB+CD-\"\n",
    "\t\n",
    "\tprint(\"Prefix : \", postToPre(post_exp))"
   ]
  },
  {
   "cell_type": "code",
   "execution_count": 83,
   "metadata": {},
   "outputs": [
    {
     "name": "stdout",
     "output_type": "stream",
     "text": [
      "((A-(B/C))*((A/K)-L))\n"
     ]
    }
   ],
   "source": [
    "#7.Write a program to convert prefix expression to infix expression.\n",
    "def prefixToInfix(prefix):\n",
    "\tstack = []\n",
    "\t\n",
    "\ti = len(prefix) - 1\n",
    "\twhile i >= 0:\n",
    "\t\tif not isOperator(prefix[i]):\n",
    "\t\t\t\n",
    "\t\t\tstack.append(prefix[i])\n",
    "\t\t\ti -= 1\n",
    "\t\telse:\n",
    "\t\t\tstr = \"(\" + stack.pop() + prefix[i] + stack.pop() + \")\"\n",
    "\t\t\tstack.append(str)\n",
    "\t\t\ti -= 1\n",
    "\t\n",
    "\treturn stack.pop()\n",
    "\n",
    "def isOperator(c):\n",
    "\tif c == \"*\" or c == \"+\" or c == \"-\" or c == \"/\" or c == \"^\" or c == \"(\" or c == \")\":\n",
    "\t\treturn True\n",
    "\telse:\n",
    "\t\treturn False\n",
    "\n",
    "if __name__==\"__main__\":\n",
    "\tstr = \"*-A/BC-/AKL\"\n",
    "\tprint(prefixToInfix(str))"
   ]
  },
  {
   "cell_type": "code",
   "execution_count": 84,
   "metadata": {},
   "outputs": [
    {
     "name": "stdout",
     "output_type": "stream",
     "text": [
      "Balanced\n"
     ]
    }
   ],
   "source": [
    "#8.Write a program to check if all the brackets are closed in a given code snippet.\n",
    "def isMatch(ch1, ch2):\n",
    "    if ch1 == '(' and ch2 == ')':\n",
    "        return True\n",
    "    if ch1 == '[' and ch2 == ']':\n",
    "        return True\n",
    "    if ch1 == '{' and ch2 == '}':\n",
    "        return True\n",
    "    return False\n",
    "\n",
    "def isBalanced(s):\n",
    "    top = -1\n",
    "    for i in range(len(s)):\n",
    "        if top < 0 or not isMatch(s[top], s[i]):\n",
    "            top += 1\n",
    "            s[top] = s[i]\n",
    "        else:\n",
    "            top -= 1\n",
    "   \n",
    "    return True if top == -1 else False\n",
    "\n",
    "def main():\n",
    "    s = \"{()[]}\"\n",
    "\n",
    "    if isBalanced(list(s)):\n",
    "        print(\"Balanced\")\n",
    "    else:\n",
    "        print(\"Not Balanced\")\n",
    "\n",
    "main()\n"
   ]
  },
  {
   "cell_type": "code",
   "execution_count": 85,
   "metadata": {},
   "outputs": [
    {
     "name": "stdout",
     "output_type": "stream",
     "text": [
      "uddal\n"
     ]
    }
   ],
   "source": [
    "#9.Write a program to reverse a stack.\n",
    "class Stack: \n",
    "    def __init__(self): \n",
    "        self.items = [] \n",
    "    def isEmpty(self): \n",
    "        return self.items == [] \n",
    "    def push(self,item): \n",
    "        self.items.append(item) \n",
    "        return self.items \n",
    "    def pop(self): \n",
    "        if self.items == []: \n",
    "            return 0 \n",
    "        self.items.pop() \n",
    "    def peek(self): \n",
    "        if self.items == []: \n",
    "            return 0 \n",
    "        return self.items[len(self.items) - 1] \n",
    "    def size(self): \n",
    "        return len(self.items) \n",
    " \n",
    "    def getStackItems(self): \n",
    "        return self.items \n",
    " \n",
    "def reverse(string): \n",
    "    stack = Stack() \n",
    "    ls = [] \n",
    "    newstr = \"\" \n",
    "    for i in string: \n",
    "        stack.push(i) \n",
    "    ls = stack.getStackItems() \n",
    "    for j in range(len(ls)): \n",
    "        newstr += ls.pop() \n",
    "    print(newstr) \n",
    " \n",
    "reverse(\"laddu\") "
   ]
  },
  {
   "cell_type": "code",
   "execution_count": 86,
   "metadata": {},
   "outputs": [
    {
     "name": "stdout",
     "output_type": "stream",
     "text": [
      "-3\n",
      "0\n",
      "-2\n"
     ]
    }
   ],
   "source": [
    "#10.Write a program to find the smallest number using a stack.\n",
    "class MinStack(object):\n",
    "   min=float('inf')\n",
    "   def __init__(self):\n",
    "      self.min=float('inf')\n",
    "      self.stack = []\n",
    "   def push(self, x):\n",
    "      if x<=self.min:\n",
    "         self.stack.append(self.min)\n",
    "         self.min = x\n",
    "      self.stack.append(x)\n",
    "   def pop(self):\n",
    "      t = self.stack[-1]\n",
    "      self.stack.pop()\n",
    "      if self.min == t:\n",
    "         self.min = self.stack[-1]\n",
    "         self.stack.pop()\n",
    "   def top(self):\n",
    "      return self.stack[-1]\n",
    "   def getMin(self):\n",
    "      return self.min\n",
    "m = MinStack()\n",
    "m.push(-2)\n",
    "m.push(0)\n",
    "m.push(-3)\n",
    "print(m.getMin())\n",
    "m.pop()\n",
    "print(m.top())\n",
    "print(m.getMin())"
   ]
  }
 ],
 "metadata": {
  "kernelspec": {
   "display_name": "Python 3",
   "language": "python",
   "name": "python3"
  },
  "language_info": {
   "codemirror_mode": {
    "name": "ipython",
    "version": 3
   },
   "file_extension": ".py",
   "mimetype": "text/x-python",
   "name": "python",
   "nbconvert_exporter": "python",
   "pygments_lexer": "ipython3",
   "version": "3.11.2"
  },
  "orig_nbformat": 4,
  "vscode": {
   "interpreter": {
    "hash": "cfd6bd4f4113fdcafaf611b0ceaf74a3b5f8378550a60e11b112517102badd1d"
   }
  }
 },
 "nbformat": 4,
 "nbformat_minor": 2
}
